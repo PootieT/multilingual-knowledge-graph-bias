{
 "cells": [
  {
   "cell_type": "code",
   "execution_count": 1,
   "source": [
    "from rdflib import Graph\n",
    "import pandas as pd\n",
    "import torch \n",
    "\n",
    "# graph = Graph()\n",
    "# graph.parse('project/repository/multilingual-knowledge-graph-bias/data/infobox-properties_lang=ky.ttl', format='ttl')"
   ],
   "outputs": [],
   "metadata": {}
  },
  {
   "cell_type": "code",
   "execution_count": 8,
   "source": [
    "train = pd.read_csv(\"test.txt\", delimiter=\"\\t\")"
   ],
   "outputs": [],
   "metadata": {}
  },
  {
   "cell_type": "code",
   "execution_count": 10,
   "source": [
    "train.head()"
   ],
   "outputs": [
    {
     "output_type": "execute_result",
     "data": {
      "text/html": [
       "<div>\n",
       "<style scoped>\n",
       "    .dataframe tbody tr th:only-of-type {\n",
       "        vertical-align: middle;\n",
       "    }\n",
       "\n",
       "    .dataframe tbody tr th {\n",
       "        vertical-align: top;\n",
       "    }\n",
       "\n",
       "    .dataframe thead th {\n",
       "        text-align: right;\n",
       "    }\n",
       "</style>\n",
       "<table border=\"1\" class=\"dataframe\">\n",
       "  <thead>\n",
       "    <tr style=\"text-align: right;\">\n",
       "      <th></th>\n",
       "      <th>&lt;http://dbpedia.org/resource/Back_Gate,_Arkansas&gt;</th>\n",
       "      <th>&lt;http://dbpedia.org/property/subdivisionType&gt;</th>\n",
       "      <th>&lt;http://dbpedia.org/resource/List_of_sovereign_states&gt;</th>\n",
       "    </tr>\n",
       "  </thead>\n",
       "  <tbody>\n",
       "    <tr>\n",
       "      <th>0</th>\n",
       "      <td>&lt;http://dbpedia.org/resource/Imperial_Valley_P...</td>\n",
       "      <td>&lt;http://dbpedia.org/property/headquarters&gt;</td>\n",
       "      <td>&lt;http://dbpedia.org/resource/United_States&gt;</td>\n",
       "    </tr>\n",
       "    <tr>\n",
       "      <th>1</th>\n",
       "      <td>&lt;http://dbpedia.org/resource/Bahu_Majra&gt;</td>\n",
       "      <td>&lt;http://dbpedia.org/property/postalCodeType&gt;</td>\n",
       "      <td>&lt;http://dbpedia.org/resource/Postal_Index_Number&gt;</td>\n",
       "    </tr>\n",
       "    <tr>\n",
       "      <th>2</th>\n",
       "      <td>&lt;http://dbpedia.org/resource/Belmont,_Pennsylv...</td>\n",
       "      <td>&lt;http://dbpedia.org/property/subdivisionType&gt;</td>\n",
       "      <td>&lt;http://dbpedia.org/resource/U.S._state&gt;</td>\n",
       "    </tr>\n",
       "    <tr>\n",
       "      <th>3</th>\n",
       "      <td>&lt;http://dbpedia.org/resource/Per_Oskar_Kjølaas&gt;</td>\n",
       "      <td>&lt;http://dbpedia.org/property/birthPlace&gt;</td>\n",
       "      <td>&lt;http://dbpedia.org/resource/Norway&gt;</td>\n",
       "    </tr>\n",
       "    <tr>\n",
       "      <th>4</th>\n",
       "      <td>&lt;http://dbpedia.org/resource/Irish_Hearts&gt;</td>\n",
       "      <td>&lt;http://dbpedia.org/property/language&gt;</td>\n",
       "      <td>&lt;http://dbpedia.org/resource/English_language&gt;</td>\n",
       "    </tr>\n",
       "  </tbody>\n",
       "</table>\n",
       "</div>"
      ],
      "text/plain": [
       "   <http://dbpedia.org/resource/Back_Gate,_Arkansas>  \\\n",
       "0  <http://dbpedia.org/resource/Imperial_Valley_P...   \n",
       "1           <http://dbpedia.org/resource/Bahu_Majra>   \n",
       "2  <http://dbpedia.org/resource/Belmont,_Pennsylv...   \n",
       "3    <http://dbpedia.org/resource/Per_Oskar_Kjølaas>   \n",
       "4         <http://dbpedia.org/resource/Irish_Hearts>   \n",
       "\n",
       "   <http://dbpedia.org/property/subdivisionType>  \\\n",
       "0     <http://dbpedia.org/property/headquarters>   \n",
       "1   <http://dbpedia.org/property/postalCodeType>   \n",
       "2  <http://dbpedia.org/property/subdivisionType>   \n",
       "3       <http://dbpedia.org/property/birthPlace>   \n",
       "4         <http://dbpedia.org/property/language>   \n",
       "\n",
       "  <http://dbpedia.org/resource/List_of_sovereign_states>  \n",
       "0        <http://dbpedia.org/resource/United_States>      \n",
       "1  <http://dbpedia.org/resource/Postal_Index_Number>      \n",
       "2           <http://dbpedia.org/resource/U.S._state>      \n",
       "3               <http://dbpedia.org/resource/Norway>      \n",
       "4     <http://dbpedia.org/resource/English_language>      "
      ]
     },
     "metadata": {},
     "execution_count": 10
    }
   ],
   "metadata": {}
  },
  {
   "cell_type": "code",
   "execution_count": null,
   "source": [],
   "outputs": [],
   "metadata": {}
  },
  {
   "cell_type": "code",
   "execution_count": null,
   "source": [],
   "outputs": [],
   "metadata": {}
  }
 ],
 "metadata": {
  "orig_nbformat": 4,
  "language_info": {
   "name": "python",
   "version": "3.9.7",
   "mimetype": "text/x-python",
   "codemirror_mode": {
    "name": "ipython",
    "version": 3
   },
   "pygments_lexer": "ipython3",
   "nbconvert_exporter": "python",
   "file_extension": ".py"
  },
  "kernelspec": {
   "name": "python3",
   "display_name": "Python 3.9.7 64-bit"
  },
  "interpreter": {
   "hash": "b0fa6594d8f4cbf19f97940f81e996739fb7646882a419484c72d19e05852a7e"
  }
 },
 "nbformat": 4,
 "nbformat_minor": 2
}