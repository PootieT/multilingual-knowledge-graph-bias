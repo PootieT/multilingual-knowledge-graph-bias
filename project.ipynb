{
 "cells": [
  {
   "cell_type": "code",
   "execution_count": 14,
   "source": [
    "from rdflib import Graph\n",
    "import pandas as pd\n",
    "import numpy as np\n",
    "import torch \n",
    "\n",
    "# graph = Graph()\n",
    "# graph.parse('project/repository/multilingual-knowledge-graph-bias/data/infobox-properties_lang=ky.ttl', format='ttl')"
   ],
   "outputs": [],
   "metadata": {}
  },
  {
   "cell_type": "markdown",
   "source": [
    "### Details\n",
    "\n",
    "Total professions = 1602 \n",
    "\n",
    "only 419 embeddings of them are in the model vocabulary \n",
    "\n",
    "We have embeddings in poincare and euclidean space "
   ],
   "metadata": {}
  },
  {
   "cell_type": "markdown",
   "source": [
    "#### Relation vector details\n",
    "Four relations included \n",
    "\n",
    "- gender\n",
    "- profession\n",
    "- ontology/occupation\n",
    "- relation/occupation\n",
    "\n",
    "Each relation is a 40*2 matrix"
   ],
   "metadata": {}
  },
  {
   "cell_type": "code",
   "execution_count": 3,
   "source": [
    "train = pd.read_csv(\"train.txt\", delimiter=\"\\t\")"
   ],
   "outputs": [],
   "metadata": {}
  },
  {
   "cell_type": "code",
   "execution_count": 32,
   "source": [
    "eu_per_gen = torch.load(\"en/euclidean_person_with_gender.ent.pt\")\n",
    "eu_per_gen.shape\n",
    "np.sum(eu_per_gen.numpy())"
   ],
   "outputs": [
    {
     "output_type": "execute_result",
     "data": {
      "text/plain": [
       "3.0201392"
      ]
     },
     "metadata": {},
     "execution_count": 32
    }
   ],
   "metadata": {}
  },
  {
   "cell_type": "code",
   "execution_count": 18,
   "source": [
    "eu_pro = torch.load(\"en/euclidean_professions.ent.pt\")\n",
    "eu_pro.shape\n",
    "np.sum(eu_pro.numpy())"
   ],
   "outputs": [
    {
     "output_type": "execute_result",
     "data": {
      "text/plain": [
       "-305.5907"
      ]
     },
     "metadata": {},
     "execution_count": 18
    }
   ],
   "metadata": {}
  },
  {
   "cell_type": "code",
   "execution_count": 28,
   "source": [
    "count = 0\n",
    "for i in range(len(eu_pro.numpy())):\n",
    "    if(np.sum(eu_pro.numpy()[i] != 0)):\n",
    "        count+=1"
   ],
   "outputs": [],
   "metadata": {}
  },
  {
   "cell_type": "code",
   "execution_count": 31,
   "source": [
    "eu_per_gen.shape"
   ],
   "outputs": [
    {
     "output_type": "execute_result",
     "data": {
      "text/plain": [
       "torch.Size([2644, 40])"
      ]
     },
     "metadata": {},
     "execution_count": 31
    }
   ],
   "metadata": {}
  },
  {
   "cell_type": "code",
   "execution_count": 42,
   "source": [
    "eu_rel = torch.load(\"en/euclidean_relations.rel.pt\")\n",
    "# print(eu_rel.shape)\n",
    "np.sum(eu_rel.numpy())\n",
    "\n",
    "count = 0\n",
    "for i in range(eu_rel.numpy().shape[0]):\n",
    "    if(np.sum(eu_rel.numpy()[i]) != 0):\n",
    "        count+=1\n",
    "\n",
    "print(\"relation embeddings size = \",eu_rel.shape)\n",
    "print(\"non zero embeddings of relations = \", count)\n",
    "\n"
   ],
   "outputs": [
    {
     "output_type": "stream",
     "name": "stdout",
     "text": [
      "relation embeddings size =  torch.Size([4, 40, 2])\n",
      "non zero embeddings of relations =  3\n"
     ]
    }
   ],
   "metadata": {}
  },
  {
   "cell_type": "code",
   "execution_count": 46,
   "source": [
    "eu_rel\n",
    "eu_pro\n",
    "eu_per_gen"
   ],
   "outputs": [
    {
     "output_type": "execute_result",
     "data": {
      "text/plain": [
       "tensor([[-0., -0., -0.,  ..., 0., 0., -0.],\n",
       "        [-0., -0., -0.,  ..., 0., 0., -0.],\n",
       "        [-0., -0., -0.,  ..., 0., 0., -0.],\n",
       "        ...,\n",
       "        [-0., -0., -0.,  ..., 0., 0., -0.],\n",
       "        [-0., -0., -0.,  ..., 0., 0., -0.],\n",
       "        [-0., -0., -0.,  ..., 0., 0., -0.]])"
      ]
     },
     "metadata": {},
     "execution_count": 46
    }
   ],
   "metadata": {}
  },
  {
   "cell_type": "code",
   "execution_count": 64,
   "source": [
    "gender_entities = np.array([np.zeros(40), np.zeros(40)])\n",
    "# eu_rel[1]\n",
    "\n",
    "for i in range(len(eu_per_gen.numpy())):\n",
    "    if(np.sum(eu_per_gen.numpy()[i])!=0):\n",
    "        break \n",
    "\n",
    "person_entity = eu_per_gen[i]\n",
    "person_entity.numpy()\n"
   ],
   "outputs": [
    {
     "output_type": "execute_result",
     "data": {
      "text/plain": [
       "array([ 6.3253718e-04,  1.8653310e-03,  6.5017975e-04,  1.5433540e-03,\n",
       "       -3.5955998e-04,  2.5065974e-04, -1.3304914e-03,  2.2602131e-04,\n",
       "        6.8054451e-03,  1.4581047e-03,  2.0267866e-03, -1.3435725e-04,\n",
       "       -1.4938561e-03, -6.8422756e-05, -2.5154319e-05, -7.8738638e-04,\n",
       "       -2.5099546e-03, -8.7393110e-04, -1.3360300e-03,  1.0025951e-03,\n",
       "       -1.6219497e-03, -3.4768812e-04,  1.9732361e-04,  2.2332587e-03,\n",
       "        1.9298167e-03, -1.0394237e-03, -1.4424362e-04, -2.3619370e-03,\n",
       "       -9.7377063e-04,  1.2324665e-03,  6.3375651e-04, -7.4826711e-04,\n",
       "       -1.8416879e-03,  9.2792854e-04, -8.7921770e-05, -1.2984071e-03,\n",
       "        1.5225968e-03,  7.0517429e-04,  1.7994758e-03, -2.0708069e-03],\n",
       "      dtype=float32)"
      ]
     },
     "metadata": {},
     "execution_count": 64
    }
   ],
   "metadata": {}
  },
  {
   "cell_type": "code",
   "execution_count": 82,
   "source": [
    "gender_entity = gender_entities[0]\n",
    "\n",
    "translated = np.matmul(person_entity.numpy(),relation_entity.numpy()).reshape([1,2])"
   ],
   "outputs": [],
   "metadata": {}
  },
  {
   "cell_type": "code",
   "execution_count": 93,
   "source": [
    "gender_entity = np.array([1,0])\n",
    "# score_male = np.linalg.norm(translated[0], gender_entity)\n",
    "# translated\n",
    "# gender_entity\n",
    "# score_male\n",
    "\n",
    "print(gender_entity)\n",
    "print(translated[0])\n"
   ],
   "outputs": [
    {
     "output_type": "stream",
     "name": "stdout",
     "text": [
      "[1 0]\n",
      "[3.1876578e-03 8.3350271e-05]\n"
     ]
    }
   ],
   "metadata": {}
  },
  {
   "cell_type": "code",
   "execution_count": 98,
   "source": [
    "score_male = np.linalg.norm(gender_entity-translated[0])\n",
    "print(\"male score = \", score_male)"
   ],
   "outputs": [
    {
     "output_type": "stream",
     "name": "stdout",
     "text": [
      "male score =  0.9968123456851702\n"
     ]
    }
   ],
   "metadata": {}
  },
  {
   "cell_type": "code",
   "execution_count": 102,
   "source": [
    "gender_entity = np.array([0,1])\n",
    "score_female = np.linalg.norm(gender_entity - translated[0])\n",
    "print(\"female score = \", score_female)"
   ],
   "outputs": [
    {
     "output_type": "stream",
     "name": "stdout",
     "text": [
      "female score =  0.9999217307208472\n"
     ]
    }
   ],
   "metadata": {}
  },
  {
   "cell_type": "code",
   "execution_count": null,
   "source": [],
   "outputs": [],
   "metadata": {}
  }
 ],
 "metadata": {
  "orig_nbformat": 4,
  "language_info": {
   "name": "python",
   "version": "3.9.7",
   "mimetype": "text/x-python",
   "codemirror_mode": {
    "name": "ipython",
    "version": 3
   },
   "pygments_lexer": "ipython3",
   "nbconvert_exporter": "python",
   "file_extension": ".py"
  },
  "kernelspec": {
   "name": "python3",
   "display_name": "Python 3.9.7 64-bit"
  },
  "interpreter": {
   "hash": "b0fa6594d8f4cbf19f97940f81e996739fb7646882a419484c72d19e05852a7e"
  }
 },
 "nbformat": 4,
 "nbformat_minor": 2
}